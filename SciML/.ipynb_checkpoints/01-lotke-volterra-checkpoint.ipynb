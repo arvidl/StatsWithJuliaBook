{
 "cells": [
  {
   "cell_type": "markdown",
   "id": "9be8de00",
   "metadata": {},
   "source": [
    "# Our Problem: Simulate the Lotka-Volterra Predator-Prey Dynamics\n",
    "from: https://docs.sciml.ai/Overview/stable/getting_started/first_simulation/#first_sim"
   ]
  },
  {
   "cell_type": "code",
   "execution_count": null,
   "id": "3acd99b0",
   "metadata": {},
   "outputs": [],
   "source": [
    "using ModelingToolkit, DifferentialEquations, Plots"
   ]
  },
  {
   "cell_type": "markdown",
   "id": "ab0bffe6",
   "metadata": {},
   "source": [
    "# Define our state variables: state(t) = initial condition"
   ]
  },
  {
   "cell_type": "code",
   "execution_count": null,
   "id": "42c3487e",
   "metadata": {},
   "outputs": [
    {
     "ename": "",
     "evalue": "",
     "output_type": "error",
     "traceback": [
      "\u001b[1;31mFailed to start the Kernel. \n",
      "\u001b[1;31mKernel Julia 1.8.3 is not usable. Check the Jupyter output tab for more information. \n",
      "\u001b[1;31mView Jupyter <a href='command:jupyter.viewOutput'>log</a> for further details."
     ]
    }
   ],
   "source": [
    "@variables t x(t) = 1 y(t) = 1 z(t) = 2"
   ]
  },
  {
   "cell_type": "code",
   "execution_count": null,
   "id": "e4584a50",
   "metadata": {},
   "outputs": [
    {
     "ename": "",
     "evalue": "",
     "output_type": "error",
     "traceback": [
      "\u001b[1;31mFailed to start the Kernel. \n",
      "\u001b[1;31mKernel Julia 1.8.3 is not usable. Check the Jupyter output tab for more information. \n",
      "\u001b[1;31mView Jupyter <a href='command:jupyter.viewOutput'>log</a> for further details."
     ]
    }
   ],
   "source": [
    "# Define our parameters"
   ]
  },
  {
   "cell_type": "code",
   "execution_count": null,
   "id": "e4adafbf",
   "metadata": {},
   "outputs": [
    {
     "ename": "",
     "evalue": "",
     "output_type": "error",
     "traceback": [
      "\u001b[1;31mFailed to start the Kernel. \n",
      "\u001b[1;31mKernel Julia 1.8.3 is not usable. Check the Jupyter output tab for more information. \n",
      "\u001b[1;31mView Jupyter <a href='command:jupyter.viewOutput'>log</a> for further details."
     ]
    }
   ],
   "source": [
    "@parameters α=1.5 β=1.0 γ=3.0 δ=1.0"
   ]
  },
  {
   "cell_type": "markdown",
   "id": "5123f4d7",
   "metadata": {},
   "source": [
    "# Define our differential: takes the derivative with respect to `t`"
   ]
  },
  {
   "cell_type": "code",
   "execution_count": null,
   "id": "a3005992",
   "metadata": {},
   "outputs": [
    {
     "ename": "",
     "evalue": "",
     "output_type": "error",
     "traceback": [
      "\u001b[1;31mFailed to start the Kernel. \n",
      "\u001b[1;31mKernel Julia 1.8.3 is not usable. Check the Jupyter output tab for more information. \n",
      "\u001b[1;31mView Jupyter <a href='command:jupyter.viewOutput'>log</a> for further details."
     ]
    }
   ],
   "source": [
    "D = Differential(t)"
   ]
  },
  {
   "cell_type": "markdown",
   "id": "037931f4",
   "metadata": {},
   "source": [
    "# Define the differential equations"
   ]
  },
  {
   "cell_type": "code",
   "execution_count": null,
   "id": "2e0b1079",
   "metadata": {},
   "outputs": [
    {
     "ename": "",
     "evalue": "",
     "output_type": "error",
     "traceback": [
      "\u001b[1;31mFailed to start the Kernel. \n",
      "\u001b[1;31mKernel Julia 1.8.3 is not usable. Check the Jupyter output tab for more information. \n",
      "\u001b[1;31mView Jupyter <a href='command:jupyter.viewOutput'>log</a> for further details."
     ]
    }
   ],
   "source": [
    "eqs = [\n",
    "    D(x) ~ α*x - β*x*y\n",
    "    D(y) ~ -γ*y + δ*x*y\n",
    "    z ~ x + y\n",
    "]\n"
   ]
  },
  {
   "cell_type": "markdown",
   "id": "45a3240d",
   "metadata": {},
   "source": [
    "# Bring these pieces together into an ODESystem with independent variable t"
   ]
  },
  {
   "cell_type": "code",
   "execution_count": null,
   "id": "1e67a147",
   "metadata": {},
   "outputs": [
    {
     "ename": "",
     "evalue": "",
     "output_type": "error",
     "traceback": [
      "\u001b[1;31mFailed to start the Kernel. \n",
      "\u001b[1;31mKernel Julia 1.8.3 is not usable. Check the Jupyter output tab for more information. \n",
      "\u001b[1;31mView Jupyter <a href='command:jupyter.viewOutput'>log</a> for further details."
     ]
    }
   ],
   "source": [
    "@named sys = ODESystem(eqs, t)"
   ]
  },
  {
   "cell_type": "markdown",
   "id": "f01f0517",
   "metadata": {},
   "source": [
    "# Symbolically Simplify the System"
   ]
  },
  {
   "cell_type": "code",
   "execution_count": null,
   "id": "25f5452b",
   "metadata": {},
   "outputs": [
    {
     "ename": "",
     "evalue": "",
     "output_type": "error",
     "traceback": [
      "\u001b[1;31mFailed to start the Kernel. \n",
      "\u001b[1;31mKernel Julia 1.8.3 is not usable. Check the Jupyter output tab for more information. \n",
      "\u001b[1;31mView Jupyter <a href='command:jupyter.viewOutput'>log</a> for further details."
     ]
    }
   ],
   "source": [
    "simpsys = structural_simplify(sys)"
   ]
  },
  {
   "cell_type": "markdown",
   "id": "6f506131",
   "metadata": {},
   "source": [
    "# Convert from a symbolic to a numerical problem to simulate"
   ]
  },
  {
   "cell_type": "code",
   "execution_count": null,
   "id": "ee048539",
   "metadata": {},
   "outputs": [
    {
     "ename": "",
     "evalue": "",
     "output_type": "error",
     "traceback": [
      "\u001b[1;31mFailed to start the Kernel. \n",
      "\u001b[1;31mKernel Julia 1.8.3 is not usable. Check the Jupyter output tab for more information. \n",
      "\u001b[1;31mView Jupyter <a href='command:jupyter.viewOutput'>log</a> for further details."
     ]
    }
   ],
   "source": [
    "tspan = (0.0, 10.0)\n",
    "prob = ODEProblem(simpsys, [], tspan)"
   ]
  },
  {
   "cell_type": "markdown",
   "id": "23a7a86b",
   "metadata": {},
   "source": [
    "# Solve the ODE"
   ]
  },
  {
   "cell_type": "code",
   "execution_count": null,
   "id": "250dafff",
   "metadata": {},
   "outputs": [
    {
     "ename": "",
     "evalue": "",
     "output_type": "error",
     "traceback": [
      "\u001b[1;31mFailed to start the Kernel. \n",
      "\u001b[1;31mKernel Julia 1.8.3 is not usable. Check the Jupyter output tab for more information. \n",
      "\u001b[1;31mView Jupyter <a href='command:jupyter.viewOutput'>log</a> for further details."
     ]
    }
   ],
   "source": [
    "sol = solve(prob)"
   ]
  },
  {
   "cell_type": "markdown",
   "id": "ed6c1f30",
   "metadata": {},
   "source": [
    "# Plot the solution"
   ]
  },
  {
   "cell_type": "code",
   "execution_count": null,
   "id": "68f2458e",
   "metadata": {},
   "outputs": [
    {
     "ename": "",
     "evalue": "",
     "output_type": "error",
     "traceback": [
      "\u001b[1;31mFailed to start the Kernel. \n",
      "\u001b[1;31mKernel Julia 1.8.3 is not usable. Check the Jupyter output tab for more information. \n",
      "\u001b[1;31mView Jupyter <a href='command:jupyter.viewOutput'>log</a> for further details."
     ]
    }
   ],
   "source": [
    "p1 = plot(sol, title=\"Rabbits vs Wolves\")\n",
    "p2 = plot(sol, idxs=z, title=\"Total Animals\")\n",
    "\n",
    "plot(p1, p2, layout=(2, 1))"
   ]
  },
  {
   "cell_type": "markdown",
   "id": "9acf88df",
   "metadata": {},
   "source": []
  },
  {
   "cell_type": "markdown",
   "id": "2dcc82fb",
   "metadata": {},
   "source": [
    "```julia\n",
    " Our Problem: Simulate the Lotka-Volterra Predator-Prey Dynamics\n",
    "# from: https://docs.sciml.ai/Overview/stable/getting_started/first_simulation/#first_sim\n",
    "\n",
    "using ModelingToolkit, DifferentialEquations, Plots\n",
    "\n",
    "# Define our state variables: state(t) = initial condition\n",
    "@variables t x(t)=1 y(t)=1 z(t)=2\n",
    "\n",
    "# Define our parameters\n",
    "@parameters α=1.5 β=1.0 γ=3.0 δ=1.0\n",
    "\n",
    "# Define our differential: takes the derivative with respect to `t`\n",
    "D = Differential(t)\n",
    "\n",
    "# Define the differential equations\n",
    "eqs = [\n",
    "    D(x) ~ α*x - β*x*y\n",
    "    D(y) ~ -γ*y + δ*x*y\n",
    "    z ~ x + y\n",
    "]\n",
    "\n",
    "# Bring these pieces together into an ODESystem with independent variable t\n",
    "@named sys = ODESystem(eqs,t)\n",
    "\n",
    "# Symbolically Simplify the System\n",
    "simpsys = structural_simplify(sys)\n",
    "\n",
    "# Convert from a symbolic to a numerical problem to simulate\n",
    "tspan = (0.0,10.0)\n",
    "prob = ODEProblem(simpsys, [], tspan)\n",
    "\n",
    "# Solve the ODE\n",
    "sol = solve(prob)\n",
    "\n",
    "# Plot the solution\n",
    "p1 = plot(sol,title = \"Rabbits vs Wolves\")\n",
    "p2 = plot(sol,idxs=z,title = \"Total Animals\")\n",
    "\n",
    "plot(p1,p2,layout=(2,1))\n",
    "\n",
    "```"
   ]
  }
 ],
 "metadata": {
  "kernelspec": {
   "display_name": "Julia 1.8.3",
   "language": "julia",
   "name": "julia-1.8"
  },
  "language_info": {
   "codemirror_mode": {
    "name": "ipython",
    "version": 3
   },
   "file_extension": ".py",
   "mimetype": "text/x-python",
   "name": "julia",
   "nbconvert_exporter": "python",
   "pygments_lexer": "ipython3",
   "version": "3.9.13"
  }
 },
 "nbformat": 4,
 "nbformat_minor": 5
}
